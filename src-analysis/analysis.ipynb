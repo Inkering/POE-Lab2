{
 "cells": [
  {
   "cell_type": "code",
   "execution_count": null,
   "metadata": {},
   "outputs": [],
   "source": [
    "import numpy as np\n",
    "import pandas as pd\n",
    "import matplotlib.pyplot as plt\n",
    "from mpl_toolkits.mplot3d import Axes3D\n",
    "import math\n",
    "from scipy.optimize import curve_fit\n",
    "import matplotlib.animation as animation\n",
    "from matplotlib import style\n",
    "import ipyvolume as ipv"
   ]
  },
  {
   "cell_type": "markdown",
   "metadata": {},
   "source": [
    "## Sensor Data Fitting and Calibration"
   ]
  },
  {
   "cell_type": "code",
   "execution_count": null,
   "metadata": {},
   "outputs": [],
   "source": [
    "# calibration\n",
    "def plot_calibration(x,y):\n",
    "    \"\"\"run a polyfit on sensor data, and generate a plot of\n",
    "    the original date alongside the fit. Blocking operation.\n",
    "    x: sensor measurements as np array\n",
    "    y: decided distance increments\n",
    "    \"\"\"\n",
    "    z,f = calibrate_curve(x, y)\n",
    "    x_new = np.linspace(x[0], x[-1], 50)\n",
    "    y_new = f(x_new)\n",
    "\n",
    "    print(f)\n",
    "    print(z)\n",
    "\n",
    "    fig = plt.figure(figsize=(8, 8))\n",
    "    ax = fig.add_subplot(111)\n",
    "    ax.plot(x, y, 'o', label=\"measured data\")\n",
    "    ax.plot(x_new, y_new, label=f)\n",
    "    #ax.set_xlim([x[0]-1, y[-1] + 1])\n",
    "    ax.set_title(\"3 term polynomial fit of sensor data\")\n",
    "    plt.legend(fontsize=\"small\")\n",
    "    ax.set_xlabel(\"sensor reading (unitless)\")\n",
    "    ax.set_ylabel(\"distance (cm)\")\n",
    "    ax.grid(True, linestyle='-', color='0.75')\n",
    "\n",
    "    plt.show()\n",
    "    \n",
    "def calibrate_curve(x, y):\n",
    "    \"\"\"run a polyfit on sensor data\n",
    "    x: sensor measurements as np array\n",
    "    y: decided distance increments\n",
    "    returns: fit and coefficients of fit\n",
    "    \"\"\"\n",
    "    z = np.polyfit(x, y, 3)\n",
    "    f = np.poly1d(z)\n",
    "    return z, f\n",
    "\n",
    "def sensor_2_distance(reading):\n",
    "    \"\"\"convert from reading to distance measured in cm\n",
    "    reading: unscaled value from IR sensor\n",
    "    returns: converted distance in cm\"\"\"\n",
    "    readings = np.asarray([640, 452, 300, 232, 195, 155, 137, 125, 115, 100])\n",
    "    distances = np.asarray([15, 30, 45, 60, 75, 90, 105, 120, 135, 150])\n",
    "\n",
    "    coeffs, fit_func = calibrate_curve(readings, distances)\n",
    "\n",
    "    return fit_func(reading)\n",
    "\n",
    "readings = np.asarray([640, 452, 300, 232, 195, 155, 137, 125, 115, 100])\n",
    "distances = np.asarray([15, 30, 45, 60, 75, 90, 105, 120, 135, 150])\n",
    "\n",
    "plot_calibration(readings, distances)"
   ]
  },
  {
   "cell_type": "markdown",
   "metadata": {},
   "source": [
    "## Error calculation"
   ]
  },
  {
   "cell_type": "code",
   "execution_count": null,
   "metadata": {},
   "outputs": [],
   "source": [
    "df_err = pd.read_csv(\"errors.csv\")\n",
    "\n",
    "# example data\n",
    "x = np.arange(0.1, 4, 0.5)\n",
    "y = np.exp(-x)\n",
    "\n",
    "# example error bar values that vary with x-position\n",
    "error = abs(df_err['scaled distance'] - df_err['measured dist'])\n",
    "\n",
    "fig = plt.figure(figsize=(10, 8))\n",
    "ax0 = fig.add_subplot(111)\n",
    "ax0.errorbar(df_err['distance'], df_err['scaled distance'], yerr=error, fmt='-o', ecolor='r', capsize=5)\n",
    "ax0.set_title('IR Sensor Calibration Data, with symmetric errors to calibration')\n",
    "ax0.set_xlabel(\"sensor reading (unitless)\")\n",
    "ax0.set_ylabel(\"distance (cm)\")\n",
    "ax0.legend(['experimental reading'])\n",
    "ax0.grid(True, linestyle='-', color='0.75')\n"
   ]
  },
  {
   "cell_type": "markdown",
   "metadata": {},
   "source": [
    "## Dataframe reshaping and Polar Plotting"
   ]
  },
  {
   "cell_type": "code",
   "execution_count": null,
   "metadata": {},
   "outputs": [],
   "source": [
    "df = pd.read_csv(\"big_letter_1deg_step.csv\")\n",
    "df_2d = pd.read_csv(\"big_letter_1deg_step_2D.csv\")"
   ]
  },
  {
   "cell_type": "code",
   "execution_count": null,
   "metadata": {},
   "outputs": [],
   "source": [
    "# drop the extra index column\n",
    "df = df.drop(['Unnamed: 0'], axis=1)\n",
    "df_2d = df_2d.drop(['Unnamed: 0'], axis=1)"
   ]
  },
  {
   "cell_type": "code",
   "execution_count": null,
   "metadata": {},
   "outputs": [],
   "source": [
    "sel = df.loc[df['r'] > 0].loc[df['r'] < 60]\n",
    "\n",
    "fig = plt.figure(figsize=(8, 8))\n",
    "ax = fig.add_subplot(111, polar=True)\n",
    "c = ax.scatter(df['theta']*(math.pi/180), df['r'])\n",
    "ax.set_title(\"Polar Plot of Distance Readings (3D Scan)\")\n",
    "ax.set_thetamin(0)\n",
    "ax.set_thetamax(170)\n",
    "ax.legend(['Distance Point Readings'])\n",
    "label_position=ax.get_rlabel_position()\n",
    "ax.text(np.radians(label_position),ax.get_rmax()/2.,'Distance (cm)',\n",
    "        rotation=label_position,ha='center',va='center')\n",
    "plt.show()"
   ]
  },
  {
   "cell_type": "code",
   "execution_count": null,
   "metadata": {},
   "outputs": [],
   "source": [
    "sel_2d = df_2d.loc[df_2d['r'] > 0].loc[df_2d['r'] < 60]\n",
    "\n",
    "fig = plt.figure(figsize=(8, 8))\n",
    "ax = fig.add_subplot(111, polar=True)\n",
    "c = ax.scatter(df_2d['theta']*(math.pi/180), df_2d['r'])\n",
    "ax.set_title(\"Polar Plot of Distance Readings (2D Scan)\")\n",
    "ax.set_thetamin(0)\n",
    "ax.set_thetamax(170)\n",
    "ax.legend(['Distance Point Readings'])\n",
    "label_position=ax.get_rlabel_position()\n",
    "ax.text(np.radians(label_position),ax.get_rmax()/2.,'Distance (cm)',\n",
    "        rotation=label_position,ha='center',va='center')\n",
    "plt.show()"
   ]
  },
  {
   "cell_type": "markdown",
   "metadata": {},
   "source": [
    "## Cartesian Coordinate System Plotting"
   ]
  },
  {
   "cell_type": "code",
   "execution_count": null,
   "metadata": {},
   "outputs": [],
   "source": [
    "sel = df.loc[df['r'] > 30].loc[df['r'] < 50]\n",
    "ipv.quickscatter(sel['x'], sel['z'], sel['y'], marker=\"sphere\")"
   ]
  },
  {
   "cell_type": "code",
   "execution_count": null,
   "metadata": {},
   "outputs": [],
   "source": [
    "new = sel.loc[sel['z'] > -20].loc[sel['z'] < 20].loc[sel['y'] > 30].loc[sel['y'] < 60]\n",
    "ipv.quickscatter(new['x'].values, new['z'].values, new['y'].values, marker=\"sphere\")"
   ]
  },
  {
   "cell_type": "code",
   "execution_count": null,
   "metadata": {},
   "outputs": [],
   "source": [
    "fig = plt.figure(figsize=(10, 10))\n",
    "ax = fig.add_subplot(111)\n",
    "ax.plot(-new['x'],new['z'],'o')\n",
    "ax.set_title(\"Plot of 3D backwards 'S' scan\")\n",
    "ax.set_xlabel(\"X (cm)\")\n",
    "ax.set_ylabel(\"Y (cm)\")\n",
    "ax.legend(['Readings'])"
   ]
  }
 ],
 "metadata": {
  "kernelspec": {
   "display_name": "Python 3",
   "language": "python",
   "name": "python3"
  },
  "language_info": {
   "codemirror_mode": {
    "name": "ipython",
    "version": 3
   },
   "file_extension": ".py",
   "mimetype": "text/x-python",
   "name": "python",
   "nbconvert_exporter": "python",
   "pygments_lexer": "ipython3",
   "version": "3.7.2"
  }
 },
 "nbformat": 4,
 "nbformat_minor": 4
}
